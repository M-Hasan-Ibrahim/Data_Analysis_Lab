{
 "cells": [
  {
   "cell_type": "markdown",
   "id": "62c63b64-196c-4025-bda5-5382ceaaf421",
   "metadata": {},
   "source": [
    "# Lab 02 : Numerical and Categorical Data Handling\n"
   ]
  },
  {
   "cell_type": "markdown",
   "id": "427786d9-c4f8-4769-95ca-dcd38189745f",
   "metadata": {},
   "source": [
    "#### Lab Overview\n",
    "\n",
    "This workshop focuses on data handling and preparation in case of a dataset consisting of numerical and categorical features.\n",
    "\n",
    "---\n",
    "\n",
    "#### Objective\n",
    "\n",
    "By the end of this lab, you will be able to:\n",
    "\n",
    "1. Apply common EDA methods on tabular data.\n",
    "2. Use data preparation methods on raw tabular data (e.g., data cleaning and transformation).\n",
    "3. Perform statitical analysis on tabular data.\n",
    "\n",
    "---\n"
   ]
  },
  {
   "cell_type": "markdown",
   "id": "7c0e2fd9-e4ee-4799-a9a4-94c72dbda78a",
   "metadata": {},
   "source": [
    "#### Tabular Data Problem Overview\n",
    "\n",
    "##### Hands-on Task:\n",
    "\n",
    "Write a brief description of a business problem that can be addressed using the given dataset. Include a possible case scenario where the raw data presents challenges, and explain how you would address and resolve these issues.\n"
   ]
  },
  {
   "cell_type": "raw",
   "id": "1ad8ab5d-7955-47de-be5c-d0875e0c7a16",
   "metadata": {},
   "source": [
    "\n",
    "\n",
    "\n",
    "\n"
   ]
  },
  {
   "cell_type": "markdown",
   "id": "6ff89ec5-edd6-49da-8092-07c4ba77fe8b",
   "metadata": {},
   "source": [
    "---\n",
    "\n",
    "#### Data Understanding and Exploration\n",
    "\n",
    "##### Dataset overview\n",
    "\n",
    "Load and inspect the data. <br>\n",
    "Understand the features and their types. <br>\n",
    "\n",
    "##### Data analysis\n",
    "\n",
    "_Univariate analysis_ <br>\n",
    "\n",
    "1. Histograms: To visualize the frequency distribution of a numerical feature or target. Bins group the data range into intervals. The height of each bar represents the count of values within that range.\n",
    "2. Boxplots: To identify the spread, central tendency (median), and presence of outliers in a numerical feature. The box shows the interquartile range (IQR), the line inside represents the median, and whiskers extend to 1.5 times the IQR. Points outside whiskers are outliers.\n",
    "3. Barplot: To display the frequency or proportion of each category in a categorical variable. Categories are represented along the x-axis, and the frequency/proportion is on the y-axis.\n",
    "\n",
    "_Multivariate analysis_ <br>\n",
    "\n",
    "1. Scatter plots: To visualize pairwise relationships between two numerical features. Each point represents an observation, with the x and y coordinates corresponding to the values of two features. Trends or clusters may indicate relationships.\n",
    "2. Correlation matrix: To quantify linear relationships between numerical features. Displays a table of correlation coefficients (values range from -1 to 1). Positive values indicate direct relationships, while negative values indicate inverse relationships.\n",
    "3. Boxplots: To compare the distribution of a numerical variable across different categories. Each box represents the numerical data distribution for a single category.\n"
   ]
  },
  {
   "cell_type": "markdown",
   "id": "2497cdd5-244f-49e8-a02b-1bd61ef22e82",
   "metadata": {},
   "source": [
    "---\n",
    "\n",
    "#### Data Preparation\n",
    "\n",
    "##### Data Cleaning\n",
    "\n",
    "Handling missing data by identifying and either removing or imputing them. <br>\n",
    "Removing duplicates <br>\n",
    "Handling outliers by detecting them and then treating (e.g. transformation, capping, dropping...) <br>\n",
    "Standerdizing data (e.g. data type, incorrect or inconsistent data)\n",
    "\n",
    "##### Data Transformation\n",
    "\n",
    "Apply feature scaling for numeric data (normalize, handle inconsistent units...) <br>\n",
    "Encoding categorical variables (ordinal or one hot encoding) <br>\n",
    "Combining or splitting columns\n"
   ]
  },
  {
   "cell_type": "markdown",
   "id": "4481e20f-b3f3-4840-b709-9f0b10612120",
   "metadata": {},
   "source": [
    "---\n",
    "\n",
    "#### Statistical Analysis\n",
    "\n",
    "| Test                                  | Description                                                                                                  | Applicable Columns                              | How Many Columns                                | How to Identify Dependence                                                            | Constraints                                                                                                                   | Python Function                                                                                                     |\n",
    "| ------------------------------------- | ------------------------------------------------------------------------------------------------------------ | ----------------------------------------------- | ----------------------------------------------- | ------------------------------------------------------------------------------------- | ----------------------------------------------------------------------------------------------------------------------------- | ------------------------------------------------------------------------------------------------------------------- |\n",
    "| **Correlation (Pearson Correlation)** | Measures the strength and direction of a linear relationship between two numerical variables.                | **Numerical Columns** (integer or float)        | Any pair of numerical columns                   | High absolute correlation suggests high dependecy                                     | - Assumes linearity<br>- Sensitive to outliers                                                                                | `df.corr()` (for correlation matrix)<br>`df['col1'].corr(df['col2'])` (for pairwise correlation)                    |\n",
    "| **Chi-Square Test**                   | Evaluates if two categorical variables are independent.                                                      | **Categorical Columns** (discrete values)       | Two categorical columns                         | if p-value < 0.05 then compared entities are dependent                                | - Expected frequency should be > 5 for every category in the column<br>- Categories must be mutually exclusive and exhaustive | - chi-test: `scipy.stat.chi2_contingency(data)` <br> - contingency table: `pandas.crosstab(df['col1'], df['col2'])` |\n",
    "| **ANOVA (Analysis of Variance)**      | Tests if there is a significant difference in the means of a numerical variable across different categories. | **Numerical Column** and **Categorical Column** | One numerical column and one categorical column | if p-value > 0.05 then compared categorical values have no effect on numerical column | - Assumes normality of data<br>- Homogeneity of variance<br>- Observations should be independent                              | `scipy.stat.f_oneway(df[df['category'] == 'cat1']['num_col'], df[df['category'] == 'cat2']['num_col'])`             |\n"
   ]
  },
  {
   "cell_type": "markdown",
   "id": "6e5c006a-6078-4d80-a563-95568e011733",
   "metadata": {},
   "source": [
    "---\n",
    "\n",
    "#### Hands-on Activity\n",
    "\n",
    "For the assigned dataset perform the following tasks: <br>\n",
    "**Task 1** : Provide a data overview on the given dataset overall and column wise. <br>\n",
    "**Task 2** : Do univariate analysis on all features and target variable. <br>\n",
    "**Task 3** : Do multivariate analysis on every feature with the selected target variable. <br>\n",
    "**Task 4** : Identify feature to feature relationships using multivariate analysis. <br>\n",
    "**Task 5** : Apply data transformation for all necessary columns <br>\n",
    "**Task 6** : Reapply data visualization for figures containing modified columns. <br>\n",
    "**Task 7** : Compute statistical analysis on columns that could have dependence and derive a conclusion based on test results including what columns might require to be dropped<br>\n",
    "**Task 8** : Save preprocessed dataset **without** dropping columns based on statistical analysis\n",
    "\n",
    "##### Note the following:\n",
    "\n",
    "- When necessary display/add briefly the logic/reasoning of a data procedure done.\n",
    "- Write clean code, allocate at least 1 code block for each task.\n"
   ]
  },
  {
   "cell_type": "code",
   "execution_count": null,
   "id": "41029ea0-2f09-47e3-bfa4-7dd3a76ce72a",
   "metadata": {},
   "outputs": [],
   "source": []
  }
 ],
 "metadata": {
  "kernelspec": {
   "display_name": "Python 3 (ipykernel)",
   "language": "python",
   "name": "python3"
  },
  "language_info": {
   "codemirror_mode": {
    "name": "ipython",
    "version": 3
   },
   "file_extension": ".py",
   "mimetype": "text/x-python",
   "name": "python",
   "nbconvert_exporter": "python",
   "pygments_lexer": "ipython3",
   "version": "3.9.18"
  }
 },
 "nbformat": 4,
 "nbformat_minor": 5
}
